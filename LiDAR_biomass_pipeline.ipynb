{
 "cells": [
  {
   "cell_type": "markdown",
   "metadata": {},
   "source": [
    "## Part 1 - Terminal processing in CloudCompare"
   ]
  },
  {
   "cell_type": "markdown",
   "metadata": {},
   "source": [
    "\"C:\\Program Files\\CloudCompare\\CloudCompare.exe\" -SILENT -o -GLOBAL_SHIFT AUTO “1.laz” -COORD_TO_SF Z -SOR 6 1 -NOISE RADIUS 0.5 REL 1.0 -CSF -SCENES SLOPE -CLOTH_RESOLUTION 2.0 -MAX_ITERATION 500 -CLASS_THRESHOLD 0.5 -EXPORT_GROUND -EXPORT_OFFGROUND\n",
    "\n",
    "\n",
    "\"C:\\Program Files\\CloudCompare\\CloudCompare.exe\" -SILENT -o -GLOBAL_SHIFT AUTO “1_Z_TO_SF_SOR_DENOISED_ground_points.bin” -RASTERIZE -GRID_STEP 1 -VERT_DIR 2 -PROJ MIN -SF_PROJ MIN -EMPTY_FILL INTERP -OUTPUT_RASTER_Z\n",
    "\n",
    "\n",
    "\"C:\\Program Files\\CloudCompare\\CloudCompare.exe\" -SILENT -o -GLOBAL_SHIFT AUTO “1_Z_TO_SF_SOR_DENOISED_offground_points.bin” -RASTERIZE -GRID_STEP 1 -VERT_DIR 2 -PROJ MAX -SF_PROJ MAX -OUTPUT_RASTER_Z"
   ]
  },
  {
   "cell_type": "markdown",
   "metadata": {},
   "source": [
    "## Part 2 - Canopy Height Model creation and generation of Trees and Bushes shapefiles with area attribute"
   ]
  },
  {
   "cell_type": "code",
   "execution_count": 34,
   "metadata": {},
   "outputs": [],
   "source": [
    "\"\"\"\n",
    "This script processes remote sensing data to calculate and analyze Canopy Height Models (CHM).\n",
    "It includes functions to process CHM data, and save shapefiles for bushes and trees based on height thresholds.\n",
    "\"\"\"\n",
    "\n",
    "import geopandas as gpd\n",
    "import numpy as np\n",
    "import pandas as pd\n",
    "import rasterio\n",
    "from rasterio.features import shapes\n",
    "from shapely.geometry import shape\n",
    "\n",
    "# Constants for file paths\n",
    "CHM_FILE_PATH = 'chm.tif'\n",
    "BUSHES_SHAPEFILE_PATH = 'bushes_coverage.shp'\n",
    "TREES_SHAPEFILE_PATH = 'trees_coverage.shp'\n",
    "#Double check the name of rasters!\n",
    "OFFGROUND_RASTER_PATH = '1_Z_TO_SF_SOR_DENOISED_offground_points_RASTER_Z_2024-02-29_15h22_38_332.tif'\n",
    "GROUND_RASTER_PATH = '1_Z_TO_SF_SOR_DENOISED_ground_points_RASTER_Z_2024-02-29_15h22_16_032.tif'\n",
    "\n",
    "def calculate_chm(offground_raster_path, ground_raster_path, output_path):\n",
    "    \"\"\"\n",
    "    Calculate the Canopy Height Model (CHM) from offground and ground raster data.\n",
    "    \"\"\"\n",
    "    try:\n",
    "        with rasterio.open(offground_raster_path) as offground_raster:\n",
    "            with rasterio.open(ground_raster_path) as ground_raster:\n",
    "                offground_data = offground_raster.read(1)\n",
    "                ground_data = ground_raster.read(1)\n",
    "                chm = offground_data - ground_data\n",
    "\n",
    "                # Save CHM raster\n",
    "                profile = offground_raster.profile\n",
    "                with rasterio.open(output_path, 'w', **profile) as dst:\n",
    "                    dst.write(chm, 1)\n",
    "    except IOError as e:\n",
    "        print(f\"Error in reading/writing raster files: {e}\")\n",
    "\n",
    "def process_and_save_chm_shapefiles(chm_file_path, bushes_shapefile_path, trees_shapefile_path,\n",
    "                                    bush_min_height=0.5, bush_max_height=3.0, tree_min_height=3.0):\n",
    "    \"\"\"\n",
    "    Process CHM data and save shapefiles for bushes and trees based on specified height thresholds.\n",
    "    \"\"\"\n",
    "    try:\n",
    "        with rasterio.open(chm_file_path) as src:\n",
    "            chm_data = src.read(1).astype('float32')  # Convert to float32\n",
    "            transform = src.transform\n",
    "            crs = src.crs\n",
    "\n",
    "        # Create masks for bushes and trees\n",
    "        bushes_mask = (chm_data >= bush_min_height) & (chm_data < bush_max_height)\n",
    "        trees_mask = chm_data >= tree_min_height\n",
    "\n",
    "        # Process and save each category\n",
    "        for mask, shapefile_path in [(bushes_mask, bushes_shapefile_path), (trees_mask, trees_shapefile_path)]:\n",
    "            shapes_data = shapes(chm_data, mask=mask, transform=transform)\n",
    "            gdf = gpd.GeoDataFrame.from_features(\n",
    "                ({'geometry': shape(geom), 'properties': {'height': value}} \n",
    "                 for geom, value in shapes_data), \n",
    "                crs=crs)\n",
    "            \n",
    "            # Dissolve adjacent geometries and add area attribute in hectares\n",
    "            dissolved_gdf = gdf.dissolve()\n",
    "            dissolved_gdf['area_ha'] = dissolved_gdf['geometry'].area / 10000\n",
    "\n",
    "            # Save the GeoDataFrame as a shapefile\n",
    "            dissolved_gdf.to_file(shapefile_path)\n",
    "    except IOError as e:\n",
    "        print(f\"Error in processing/saving shapefiles: {e}\")\n",
    "\n",
    "# Main execution\n",
    "if __name__ == \"__main__\":\n",
    "    calculate_chm(OFFGROUND_RASTER_PATH, GROUND_RASTER_PATH, CHM_FILE_PATH)\n",
    "    process_and_save_chm_shapefiles(CHM_FILE_PATH, BUSHES_SHAPEFILE_PATH, TREES_SHAPEFILE_PATH)"
   ]
  }
 ],
 "metadata": {
  "kernelspec": {
   "display_name": "Python 3",
   "language": "python",
   "name": "python3"
  },
  "language_info": {
   "codemirror_mode": {
    "name": "ipython",
    "version": 3
   },
   "file_extension": ".py",
   "mimetype": "text/x-python",
   "name": "python",
   "nbconvert_exporter": "python",
   "pygments_lexer": "ipython3",
   "version": "3.11.1"
  }
 },
 "nbformat": 4,
 "nbformat_minor": 2
}
